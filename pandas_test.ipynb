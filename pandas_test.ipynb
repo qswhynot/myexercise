{
 "cells": [
  {
   "cell_type": "code",
   "execution_count": 6,
   "metadata": {},
   "outputs": [],
   "source": [
    "import pandas as pd\n",
    "import numpy as np"
   ]
  },
  {
   "cell_type": "code",
   "execution_count": 7,
   "metadata": {},
   "outputs": [
    {
     "name": "stdout",
     "output_type": "stream",
     "text": [
      "0    1\n",
      "1    2\n",
      "2    3\n",
      "3    4\n",
      "dtype: int64\n",
      "a    1\n",
      "b    2\n",
      "c    3\n",
      "d    4\n",
      "dtype: int64\n"
     ]
    }
   ],
   "source": [
    "x1 = pd.Series([1,2,3,4])\n",
    "x2 = pd.Series(data=[1,2,3,4], index=['a', 'b', 'c', 'd'])\n",
    "print(x1)\n",
    "print(x2)"
   ]
  },
  {
   "cell_type": "code",
   "execution_count": 23,
   "metadata": {},
   "outputs": [
    {
     "name": "stdout",
     "output_type": "stream",
     "text": [
      "          a         b         c         d\n",
      "0  0.191984 -0.510867 -0.610483  1.443711\n",
      "1 -0.044273  0.682429 -0.518307 -0.824806\n",
      "2  2.249737 -2.728251  0.084666  0.469433\n",
      "3  0.222679  0.187884 -2.079845 -0.865438\n",
      "4 -0.344660 -0.731999  1.191178 -2.419669\n",
      "5  1.419075  0.567836 -0.144549  0.542699\n",
      "   Chinese  English  Math\n",
      "0       66       65    30\n",
      "1       95       85    98\n",
      "2       93       92    66\n",
      "3       90       88    77\n",
      "4       80       90    89\n",
      "            Chinese  English  Math\n",
      "ZhangFei         66       65    30\n",
      "GuanYu           95       85    98\n",
      "ZhaoYun          93       92    66\n",
      "HuangZhong       90       88    77\n",
      "DianWei          80       90    89\n",
      "0   -0.510867\n",
      "1    0.682429\n",
      "2   -2.728251\n",
      "3    0.187884\n",
      "4   -0.731999\n",
      "5    0.567836\n",
      "Name: b, dtype: float64\n",
      "RangeIndex(start=0, stop=5, step=1)\n",
      "Index(['Chinese', 'English', 'Math'], dtype='object')\n"
     ]
    }
   ],
   "source": [
    "index = np.arange(6)\n",
    "df1 = pd.DataFrame(np.random.randn(6,4),index=index,columns=['a','b','c','d'])\n",
    "\n",
    "print(df1)\n",
    "\n",
    "data = {'Chinese': [66, 95, 93, 90,80],'English': [65, 85, 92, 88, 90],'Math': [30, 98,66,77,89]}#字典\n",
    "df2= pd.DataFrame(data)\n",
    "df3 = pd.DataFrame(data, index=['ZhangFei', 'GuanYu', 'ZhaoYun', 'HuangZhong', 'DianWei'])\n",
    "print(df2)\n",
    "print(df3)\n",
    "print(df1['b'])\n",
    "print(df2.index)\n",
    "print(df2.columns)"
   ]
  },
  {
   "cell_type": "markdown",
   "metadata": {},
   "source": [
    "# Pandas 处理丢失数据"
   ]
  },
  {
   "cell_type": "code",
   "execution_count": 28,
   "metadata": {},
   "outputs": [
    {
     "name": "stdout",
     "output_type": "stream",
     "text": [
      "             A     B     C   D\n",
      "2013-01-01   0   NaN   2.0   3\n",
      "2013-01-02   4   5.0   NaN   7\n",
      "2013-01-03   8   9.0  10.0  11\n",
      "2013-01-04  12  13.0  14.0  15\n",
      "2013-01-05  16  17.0  18.0  19\n",
      "2013-01-06  20  21.0  22.0  23\n"
     ]
    }
   ],
   "source": [
    "#创建含有NaN数据\n",
    "dates = pd.date_range('20130101', periods=6)\n",
    "df = pd.DataFrame(np.arange(24).reshape((6,4)),index=dates, columns=['A','B','C','D'])\n",
    "df.iloc[0,1] = np.nan\n",
    "df.iloc[1,2] = np.nan\n",
    "print(df)"
   ]
  },
  {
   "cell_type": "code",
   "execution_count": 29,
   "metadata": {},
   "outputs": [],
   "source": [
    "#dropna  直接去掉有 NaN 的行或列\n",
    "df.dropna(\n",
    "    axis=0,     # 0: 对行进行操作; 1: 对列进行操作\n",
    "    how='any'   # 'any': 只要存在 NaN 就 drop 掉; 'all': 必须全部是 NaN 才 drop \n",
    "    ) "
   ]
  },
  {
   "cell_type": "code",
   "execution_count": 31,
   "metadata": {},
   "outputs": [
    {
     "name": "stdout",
     "output_type": "stream",
     "text": [
      "             A     B     C   D\n",
      "2013-01-01   0   0.0   2.0   3\n",
      "2013-01-02   4   5.0   0.0   7\n",
      "2013-01-03   8   9.0  10.0  11\n",
      "2013-01-04  12  13.0  14.0  15\n",
      "2013-01-05  16  17.0  18.0  19\n",
      "2013-01-06  20  21.0  22.0  23\n"
     ]
    }
   ],
   "source": [
    "#将 NaN 的值用其他值代替\n",
    "df1=df.fillna(value=0)\n",
    "print(df1)"
   ]
  },
  {
   "cell_type": "code",
   "execution_count": 38,
   "metadata": {},
   "outputs": [
    {
     "name": "stdout",
     "output_type": "stream",
     "text": [
      "    Student ID  name   age  gender\n",
      "0         1100  Kelly   22  Female\n",
      "1         1101    Clo   21  Female\n",
      "2         1102  Tilly   22  Female\n",
      "3         1103   Tony   24    Male\n",
      "4         1104  David   20    Male\n",
      "5         1105  Catty   22  Female\n",
      "6         1106      M    3  Female\n",
      "7         1107      N   43    Male\n",
      "8         1108      A   13    Male\n",
      "9         1109      S   12    Male\n",
      "10        1110  David   33    Male\n",
      "11        1111     Dw    3  Female\n",
      "12        1112      Q   23    Male\n",
      "13        1113      W   21  Female\n",
      "    name   age  gender\n",
      "0   Kelly   22  Female\n",
      "1     Clo   21  Female\n",
      "2   Tilly   22  Female\n",
      "3    Tony   24    Male\n",
      "4   David   20    Male\n",
      "5   Catty   22  Female\n",
      "6       M    3  Female\n",
      "7       N   43    Male\n",
      "8       A   13    Male\n",
      "9       S   12    Male\n",
      "10  David   33    Male\n",
      "11     Dw    3  Female\n",
      "12      Q   23    Male\n",
      "13      W   21  Female\n",
      "    Student ID  name   age  gender\n",
      "1         1101    Clo   21  Female\n",
      "2         1102  Tilly   22  Female\n",
      "3         1103   Tony   24    Male\n",
      "4         1104  David   20    Male\n",
      "5         1105  Catty   22  Female\n",
      "6         1106      M    3  Female\n",
      "7         1107      N   43    Male\n",
      "8         1108      A   13    Male\n",
      "9         1109      S   12    Male\n",
      "10        1110  David   33    Male\n",
      "11        1111     Dw    3  Female\n",
      "12        1112      Q   23    Male\n",
      "13        1113      W   21  Female\n"
     ]
    }
   ],
   "source": [
    "#读数据\n",
    "data=pd.read_csv('student.csv')\n",
    "print(data) #index自己加上去的\n",
    "df1=data.drop(columns=['Student ID'])\n",
    "df2=data.drop(index=[0])\n",
    "print(df1)\n",
    "print(df2)"
   ]
  },
  {
   "cell_type": "code",
   "execution_count": null,
   "metadata": {},
   "outputs": [],
   "source": []
  }
 ],
 "metadata": {
  "kernelspec": {
   "display_name": "py36",
   "language": "python",
   "name": "py36"
  },
  "language_info": {
   "codemirror_mode": {
    "name": "ipython",
    "version": 3
   },
   "file_extension": ".py",
   "mimetype": "text/x-python",
   "name": "python",
   "nbconvert_exporter": "python",
   "pygments_lexer": "ipython3",
   "version": "3.6.8"
  }
 },
 "nbformat": 4,
 "nbformat_minor": 2
}
