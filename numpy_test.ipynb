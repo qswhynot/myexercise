{
 "cells": [
  {
   "cell_type": "code",
   "execution_count": 2,
   "metadata": {},
   "outputs": [],
   "source": [
    "import numpy as np\n",
    "import pandas as pd"
   ]
  },
  {
   "cell_type": "code",
   "execution_count": 11,
   "metadata": {},
   "outputs": [
    {
     "name": "stdout",
     "output_type": "stream",
     "text": [
      "(3,)\n",
      "(1, 3)\n",
      "(4, 3)\n",
      "[1 2 3] [[1 2 3]] [[ 1  2  3]\n",
      " [ 4  5  6]\n",
      " [ 7  8  9]\n",
      " [10 11 12]]\n"
     ]
    }
   ],
   "source": [
    "a = np.array([1,2,3])\n",
    "b = np.array([[1,2,3]])\n",
    "c = np.array([[1, 2, 3], [4, 5, 6], [7, 8, 9],[10,11,12]])\n",
    "print(a.shape)\n",
    "print(b.shape)\n",
    "print(c.shape)"
   ]
  },
  {
   "cell_type": "code",
   "execution_count": 30,
   "metadata": {},
   "outputs": [
    {
     "name": "stdout",
     "output_type": "stream",
     "text": [
      "[1 3 5 7 9]\n",
      "[1. 3. 5. 7. 9.]\n",
      "[ True  True  True  True  True]\n",
      "[[0.27198206 0.79450745 0.4791332  0.39157006]\n",
      " [0.80695498 0.3656961  0.28345068 0.22526591]]\n"
     ]
    }
   ],
   "source": [
    "#创建连续等差数组\n",
    "x1 = np.arange(1,11,2)\n",
    "x2 = np.linspace(1,9,5)\n",
    "print(x1)\n",
    "print(x2)\n",
    "print(x1==x2)\n",
    "\n",
    "a = np.zeros((3,4)) # 数据全为0，3行4列\n",
    "a = np.ones((3,4),dtype = np.int)   # 数据为1，3行4列"
   ]
  },
  {
   "cell_type": "code",
   "execution_count": 31,
   "metadata": {},
   "outputs": [
    {
     "name": "stdout",
     "output_type": "stream",
     "text": [
      "[[0.8251106  0.49391338 0.83696276 0.88644793]\n",
      " [0.10314586 0.29424655 0.19745504 0.8927316 ]]\n",
      "[[0.12911267 0.75240885 0.62091214 0.7905164 ]\n",
      " [0.81702885 0.63593961 0.42973464 0.60032489]]\n",
      "[[-0.57973841 -0.11474264  0.07498353  0.23671971]\n",
      " [-0.03943466  0.78538687  0.46904523  0.07077839]]\n"
     ]
    }
   ],
   "source": [
    "#创建随机数组\n",
    "a=np.random.random((2,4))\n",
    "b=np.random.rand(2,4)   #[0, 1)随机分布\n",
    "c=np.random.randn(2,4)  #标准正态分布\n",
    "print(a)\n",
    "print(b)\n",
    "print(c)"
   ]
  },
  {
   "cell_type": "code",
   "execution_count": 28,
   "metadata": {},
   "outputs": [
    {
     "name": "stdout",
     "output_type": "stream",
     "text": [
      "[1 3 5 7 9]\n",
      "[2 3 4 7 8]\n",
      "add [ 3  6  9 14 17]\n",
      "[ 3  6  9 14 17]\n",
      "subtract [-1  0  1  0  1]\n",
      "[-1  0  1  0  1]\n",
      "multiply [ 2  9 20 49 72]\n",
      "[ 2  9 20 49 72]\n",
      "divide [0.5   1.    1.25  1.    1.125]\n",
      "[0.5 1.5 2.5 3.5 4.5]\n",
      "power [       1       27      625   823543 43046721]\n",
      "[       1       27      625   823543 43046721]\n",
      "remaninder [1 0 1 0 1]\n",
      "[1 0 1 0 1]\n"
     ]
    }
   ],
   "source": [
    "#数组运算\n",
    "x1 = np.arange(1,11,2)\n",
    "x2 = np.array([2,3,4,7,8])\n",
    "print(x1)\n",
    "print(x2)\n",
    "#加减乘除\n",
    "print('add',np.add(x1, x2)) \n",
    "print(x1+x2)\n",
    "print ('subtract',np.subtract(x1, x2))\n",
    "print(x1-x2)\n",
    "print ('multiply',np.multiply(x1, x2))\n",
    "print(x1*x2)\n",
    "print('divide',np.divide(x1, x2))\n",
    "print(x1/2)\n",
    "# n次方， 取余\n",
    "print ('power',np.power(x1, x2))\n",
    "print(x1**x2)\n",
    "print ('remaninder',np.remainder(x1, x2))\n",
    "print(x1%x2)"
   ]
  },
  {
   "cell_type": "code",
   "execution_count": 29,
   "metadata": {},
   "outputs": [
    {
     "name": "stdout",
     "output_type": "stream",
     "text": [
      "[[1 1]\n",
      " [0 1]]\n",
      "[[0 1]\n",
      " [2 3]]\n",
      "[[2 4]\n",
      " [2 3]]\n"
     ]
    }
   ],
   "source": [
    "#矩阵运算\n",
    "a=np.array([[1,1],[0,1]])\n",
    "b=np.arange(4).reshape((2,2))\n",
    "print(a)\n",
    "print(b)\n",
    "#矩阵运算\n",
    "print(np.dot(a,b))\n"
   ]
  },
  {
   "cell_type": "code",
   "execution_count": 23,
   "metadata": {},
   "outputs": [
    {
     "name": "stdout",
     "output_type": "stream",
     "text": [
      "1\n",
      "[1 2 3]\n",
      "[1 4 7]\n",
      "9\n",
      "[7 8 9]\n",
      "[3 6 9]\n"
     ]
    }
   ],
   "source": [
    "#统计\n",
    "a = np.array([[1,2,3], [4,5,6], [7,8,9]])\n",
    "print (np.amin(a))\n",
    "print (np.amin(a,axis=0))\n",
    "print (np.amin(a,axis=1))\n",
    "print (np.amax(a))\n",
    "print (np.amax(a,0))\n",
    "print (np.amax(a,1))"
   ]
  },
  {
   "cell_type": "code",
   "execution_count": 33,
   "metadata": {},
   "outputs": [
    {
     "name": "stdout",
     "output_type": "stream",
     "text": [
      "[[1 1 1]\n",
      " [2 2 2]]\n",
      "(6,)\n"
     ]
    }
   ],
   "source": [
    "#h合并\n",
    "A = np.array([1,1,1])\n",
    "B = np.array([2,2,2])         \n",
    "print(np.vstack((A,B)))  #  vertical stack   上下合并\n",
    "\n",
    "C = np.hstack((A,B))     # horizontal stack  左右合并\n",
    "print(C.shape)"
   ]
  }
 ],
 "metadata": {
  "kernelspec": {
   "display_name": "py36",
   "language": "python",
   "name": "py36"
  },
  "language_info": {
   "codemirror_mode": {
    "name": "ipython",
    "version": 3
   },
   "file_extension": ".py",
   "mimetype": "text/x-python",
   "name": "python",
   "nbconvert_exporter": "python",
   "pygments_lexer": "ipython3",
   "version": "3.6.8"
  }
 },
 "nbformat": 4,
 "nbformat_minor": 2
}
